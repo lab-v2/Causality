{
 "cells": [
  {
   "cell_type": "code",
   "execution_count": 1,
   "metadata": {},
   "outputs": [],
   "source": [
    "import platform"
   ]
  },
  {
   "cell_type": "code",
   "execution_count": 2,
   "metadata": {},
   "outputs": [
    {
     "data": {
      "text/plain": [
       "'x86_64'"
      ]
     },
     "execution_count": 2,
     "metadata": {},
     "output_type": "execute_result"
    }
   ],
   "source": [
    "platform.processor()"
   ]
  },
  {
   "cell_type": "code",
   "execution_count": 4,
   "metadata": {},
   "outputs": [
    {
     "data": {
      "text/plain": [
       "\u001b[0;31mType:\u001b[0m        module\n",
       "\u001b[0;31mString form:\u001b[0m <module 'platform' from '/packages/7x/anaconda3/5.3.0/envs/rapids-22.02-cuda-11.5/lib/python3.9/platform.py'>\n",
       "\u001b[0;31mFile:\u001b[0m        /packages/7x/anaconda3/5.3.0/envs/rapids-22.02-cuda-11.5/lib/python3.9/platform.py\n",
       "\u001b[0;31mDocstring:\u001b[0m  \n",
       "This module tries to retrieve as much platform-identifying data as\n",
       "possible. It makes this information available via function APIs.\n",
       "\n",
       "If called from the command line, it prints the platform\n",
       "information concatenated as single string to stdout. The output\n",
       "format is useable as part of a filename.\n"
      ]
     },
     "metadata": {},
     "output_type": "display_data"
    }
   ],
   "source": [
    "platform?"
   ]
  },
  {
   "cell_type": "code",
   "execution_count": 5,
   "metadata": {},
   "outputs": [],
   "source": [
    "import subprocess"
   ]
  },
  {
   "cell_type": "code",
   "execution_count": 6,
   "metadata": {},
   "outputs": [
    {
     "data": {
      "text/plain": [
       "b'Sun Jan  8 03:54:17 2023       \\n+-----------------------------------------------------------------------------+\\n| NVIDIA-SMI 510.47.03    Driver Version: 510.47.03    CUDA Version: 11.6     |\\n|-------------------------------+----------------------+----------------------+\\n| GPU  Name        Persistence-M| Bus-Id        Disp.A | Volatile Uncorr. ECC |\\n| Fan  Temp  Perf  Pwr:Usage/Cap|         Memory-Usage | GPU-Util  Compute M. |\\n|                               |                      |               MIG M. |\\n|===============================+======================+======================|\\n|   0  Quadro RTX 6000     Off  | 00000000:3B:00.0 Off |                    0 |\\n| N/A   31C    P0    25W / 250W |      0MiB / 23040MiB |      0%      Default |\\n|                               |                      |                  N/A |\\n+-------------------------------+----------------------+----------------------+\\n                                                                               \\n+-----------------------------------------------------------------------------+\\n| Processes:                                                                  |\\n|  GPU   GI   CI        PID   Type   Process name                  GPU Memory |\\n|        ID   ID                                                   Usage      |\\n|=============================================================================|\\n|  No running processes found                                                 |\\n+-----------------------------------------------------------------------------+\\n'"
      ]
     },
     "execution_count": 6,
     "metadata": {},
     "output_type": "execute_result"
    }
   ],
   "source": [
    "subprocess.check_output('nvidia-smi')"
   ]
  },
  {
   "cell_type": "code",
   "execution_count": 7,
   "metadata": {},
   "outputs": [],
   "source": [
    "from numba import cuda"
   ]
  },
  {
   "cell_type": "code",
   "execution_count": 10,
   "metadata": {},
   "outputs": [
    {
     "name": "stdout",
     "output_type": "stream",
     "text": [
      "ASYNC_ENGINE_COUNT = 3\n",
      "CAN_MAP_HOST_MEMORY = 1\n",
      "CAN_USE_HOST_POINTER_FOR_REGISTERED_MEM = 1\n",
      "CLOCK_RATE = 1620000\n",
      "COMPUTE_CAPABILITY_MAJOR = 7\n",
      "COMPUTE_CAPABILITY_MINOR = 5\n",
      "COMPUTE_MODE = 0\n",
      "COMPUTE_PREEMPTION_SUPPORTED = 1\n",
      "CONCURRENT_KERNELS = 1\n",
      "CONCURRENT_MANAGED_ACCESS = 1\n",
      "COOPERATIVE_LAUNCH = 1\n",
      "COOPERATIVE_MULTI_DEVICE_LAUNCH = 1\n",
      "ECC_ENABLED = 1\n",
      "GLOBAL_L1_CACHE_SUPPORTED = 1\n",
      "GLOBAL_MEMORY_BUS_WIDTH = 384\n",
      "GPU_OVERLAP = 1\n",
      "HOST_NATIVE_ATOMIC_SUPPORTED = 0\n",
      "INTEGRATED = 0\n",
      "IS_MULTI_GPU_BOARD = 0\n",
      "KERNEL_EXEC_TIMEOUT = 0\n",
      "L2_CACHE_SIZE = 6291456\n",
      "LOCAL_L1_CACHE_SUPPORTED = 1\n",
      "MANAGED_MEMORY = 1\n",
      "MAX_BLOCK_DIM_X = 1024\n",
      "MAX_BLOCK_DIM_Y = 1024\n",
      "MAX_BLOCK_DIM_Z = 64\n",
      "MAX_GRID_DIM_X = 2147483647\n",
      "MAX_GRID_DIM_Y = 65535\n",
      "MAX_GRID_DIM_Z = 65535\n",
      "MAX_MAX_TEXTURE_2D_MIPMAPPED_HEIGHT = 32768\n",
      "MAX_PITCH = 2147483647\n",
      "MAX_REGISTERS_PER_BLOCK = 65536\n",
      "MAX_REGISTERS_PER_MULTIPROCESSOR = 65536\n",
      "MAX_SHARED_MEMORY_PER_BLOCK = 49152\n",
      "MAX_SHARED_MEMORY_PER_BLOCK_OPTIN = 65536\n",
      "MAX_SHARED_MEMORY_PER_MULTIPROCESSOR = 65536\n",
      "MAX_SURFACE_1D_LAYERED_LAYERS = 2048\n",
      "MAX_SURFACE_1D_LAYERED_WIDTH = 32768\n",
      "MAX_SURFACE_1D_WIDTH = 32768\n",
      "MAX_SURFACE_2D_HEIGHT = 65536\n",
      "MAX_SURFACE_2D_LAYERED_HEIGHT = 32768\n",
      "MAX_SURFACE_2D_LAYERED_LAYERS = 2048\n",
      "MAX_SURFACE_2D_LAYERED_WIDTH = 32768\n",
      "MAX_SURFACE_2D_WIDTH = 131072\n",
      "MAX_SURFACE_3D_DEPTH = 16384\n",
      "MAX_SURFACE_3D_HEIGHT = 16384\n",
      "MAX_SURFACE_3D_WIDTH = 16384\n",
      "MAX_SURFACE_CUBEMAP_LAYERED_LAYERS = 2046\n",
      "MAX_SURFACE_CUBEMAP_LAYERED_WIDTH = 32768\n",
      "MAX_SURFACE_CUBEMAP_WIDTH = 32768\n",
      "MAX_TEXTURE_1D_LAYERED_LAYERS = 2048\n",
      "MAX_TEXTURE_1D_LAYERED_WIDTH = 32768\n",
      "MAX_TEXTURE_1D_LINEAR_WIDTH = 268435456\n",
      "MAX_TEXTURE_1D_MIPMAPPED_WIDTH = 32768\n",
      "MAX_TEXTURE_1D_WIDTH = 131072\n",
      "MAX_TEXTURE_2D_GATHER_HEIGHT = 32768\n",
      "MAX_TEXTURE_2D_GATHER_WIDTH = 32768\n",
      "MAX_TEXTURE_2D_HEIGHT = 65536\n",
      "MAX_TEXTURE_2D_LAYERED_HEIGHT = 32768\n",
      "MAX_TEXTURE_2D_LAYERED_LAYERS = 2048\n",
      "MAX_TEXTURE_2D_LAYERED_WIDTH = 32768\n",
      "MAX_TEXTURE_2D_LINEAR_HEIGHT = 65000\n",
      "MAX_TEXTURE_2D_LINEAR_PITCH = 2097120\n",
      "MAX_TEXTURE_2D_LINEAR_WIDTH = 131072\n",
      "MAX_TEXTURE_2D_MIPMAPPED_WIDTH = 32768\n",
      "MAX_TEXTURE_2D_WIDTH = 131072\n",
      "MAX_TEXTURE_3D_DEPTH = 16384\n",
      "MAX_TEXTURE_3D_DEPTH_ALT = 32768\n",
      "MAX_TEXTURE_3D_HEIGHT = 16384\n",
      "MAX_TEXTURE_3D_HEIGHT_ALT = 8192\n",
      "MAX_TEXTURE_3D_WIDTH = 16384\n",
      "MAX_TEXTURE_3D_WIDTH_ALT = 8192\n",
      "MAX_TEXTURE_CUBEMAP_LAYERED_LAYERS = 2046\n",
      "MAX_TEXTURE_CUBEMAP_LAYERED_WIDTH = 32768\n",
      "MAX_TEXTURE_CUBEMAP_WIDTH = 32768\n",
      "MAX_THREADS_PER_BLOCK = 1024\n",
      "MAX_THREADS_PER_MULTI_PROCESSOR = 1024\n",
      "MEMORY_CLOCK_RATE = 6501000\n",
      "MULTIPROCESSOR_COUNT = 72\n",
      "MULTI_GPU_BOARD_GROUP_ID = 0\n",
      "PAGEABLE_MEMORY_ACCESS = 0\n",
      "PCI_BUS_ID = 59\n",
      "PCI_DEVICE_ID = 0\n",
      "PCI_DOMAIN_ID = 0\n",
      "SINGLE_TO_DOUBLE_PRECISION_PERF_RATIO = 32\n",
      "STREAM_PRIORITIES_SUPPORTED = 1\n",
      "SURFACE_ALIGNMENT = 512\n",
      "TCC_DRIVER = 0\n",
      "TEXTURE_ALIGNMENT = 512\n",
      "TEXTURE_PITCH_ALIGNMENT = 32\n",
      "TOTAL_CONSTANT_MEMORY = 65536\n",
      "UNIFIED_ADDRESSING = 1\n",
      "WARP_SIZE = 32\n"
     ]
    }
   ],
   "source": [
    "from numba.cuda.cudadrv import enums\n",
    "from numba import cuda\n",
    "\n",
    "device = cuda.get_current_device()\n",
    "attribs= [name.replace(\"CU_DEVICE_ATTRIBUTE_\", \"\") for name in dir(enums) if name.startswith(\"CU_DEVICE_ATTRIBUTE_\")]\n",
    "for attr in attribs:\n",
    "    print(attr, '=', getattr(device, attr))"
   ]
  },
  {
   "cell_type": "code",
   "execution_count": 16,
   "metadata": {},
   "outputs": [
    {
     "name": "stdout",
     "output_type": "stream",
     "text": [
      "Defaulting to user installation because normal site-packages is not writeable\n",
      "Requirement already satisfied: tensorflow in ./.local/lib/python3.7/site-packages (2.9.1)\n",
      "Requirement already satisfied: grpcio<2.0,>=1.24.3 in /packages/7x/anaconda3/5.3.0/lib/python3.7/site-packages (from tensorflow) (1.32.0)\n",
      "Requirement already satisfied: gast<=0.4.0,>=0.2.1 in /packages/7x/anaconda3/5.3.0/lib/python3.7/site-packages (from tensorflow) (0.3.3)\n",
      "Requirement already satisfied: numpy>=1.20 in ./.local/lib/python3.7/site-packages (from tensorflow) (1.21.6)\n",
      "Requirement already satisfied: absl-py>=1.0.0 in ./.local/lib/python3.7/site-packages (from tensorflow) (1.1.0)\n",
      "Requirement already satisfied: h5py>=2.9.0 in /packages/7x/anaconda3/5.3.0/lib/python3.7/site-packages (from tensorflow) (3.6.0)\n",
      "Requirement already satisfied: wrapt>=1.11.0 in ./.local/lib/python3.7/site-packages (from tensorflow) (1.14.1)\n",
      "Requirement already satisfied: flatbuffers<2,>=1.12 in /packages/7x/anaconda3/5.3.0/lib/python3.7/site-packages (from tensorflow) (1.12)\n",
      "Requirement already satisfied: libclang>=13.0.0 in ./.local/lib/python3.7/site-packages (from tensorflow) (14.0.1)\n",
      "Requirement already satisfied: setuptools in /packages/7x/anaconda3/5.3.0/lib/python3.7/site-packages (from tensorflow) (41.0.0)\n",
      "Requirement already satisfied: tensorflow-estimator<2.10.0,>=2.9.0rc0 in ./.local/lib/python3.7/site-packages (from tensorflow) (2.9.0)\n",
      "Requirement already satisfied: astunparse>=1.6.0 in /packages/7x/anaconda3/5.3.0/lib/python3.7/site-packages (from tensorflow) (1.6.3)\n",
      "Requirement already satisfied: tensorflow-io-gcs-filesystem>=0.23.1 in ./.local/lib/python3.7/site-packages (from tensorflow) (0.26.0)\n",
      "Requirement already satisfied: termcolor>=1.1.0 in /packages/7x/anaconda3/5.3.0/lib/python3.7/site-packages (from tensorflow) (1.1.0)\n",
      "Requirement already satisfied: six>=1.12.0 in /packages/7x/anaconda3/5.3.0/lib/python3.7/site-packages (from tensorflow) (1.15.0)\n",
      "Requirement already satisfied: opt-einsum>=2.3.2 in /packages/7x/anaconda3/5.3.0/lib/python3.7/site-packages (from tensorflow) (3.3.0)\n",
      "Requirement already satisfied: typing-extensions>=3.6.6 in /packages/7x/anaconda3/5.3.0/lib/python3.7/site-packages (from tensorflow) (3.7.4.3)\n",
      "Requirement already satisfied: protobuf<3.20,>=3.9.2 in /packages/7x/anaconda3/5.3.0/lib/python3.7/site-packages (from tensorflow) (3.15.2)\n",
      "Requirement already satisfied: packaging in /packages/7x/anaconda3/5.3.0/lib/python3.7/site-packages (from tensorflow) (21.3)\n",
      "Requirement already satisfied: tensorboard<2.10,>=2.9 in ./.local/lib/python3.7/site-packages (from tensorflow) (2.9.1)\n",
      "Requirement already satisfied: keras-preprocessing>=1.1.1 in /packages/7x/anaconda3/5.3.0/lib/python3.7/site-packages (from tensorflow) (1.1.2)\n",
      "Requirement already satisfied: google-pasta>=0.1.1 in /packages/7x/anaconda3/5.3.0/lib/python3.7/site-packages (from tensorflow) (0.2.0)\n",
      "Requirement already satisfied: keras<2.10.0,>=2.9.0rc0 in ./.local/lib/python3.7/site-packages (from tensorflow) (2.9.0)\n",
      "Requirement already satisfied: wheel<1.0,>=0.23.0 in /packages/7x/anaconda3/5.3.0/lib/python3.7/site-packages (from astunparse>=1.6.0->tensorflow) (0.36.2)\n",
      "Requirement already satisfied: cached-property in /packages/7x/anaconda3/5.3.0/lib/python3.7/site-packages (from h5py>=2.9.0->tensorflow) (1.5.2)\n",
      "Requirement already satisfied: werkzeug>=1.0.1 in ./.local/lib/python3.7/site-packages (from tensorboard<2.10,>=2.9->tensorflow) (2.1.2)\n",
      "Requirement already satisfied: google-auth<3,>=1.6.3 in /packages/7x/anaconda3/5.3.0/lib/python3.7/site-packages (from tensorboard<2.10,>=2.9->tensorflow) (1.27.0)\n",
      "Requirement already satisfied: tensorboard-data-server<0.7.0,>=0.6.0 in ./.local/lib/python3.7/site-packages (from tensorboard<2.10,>=2.9->tensorflow) (0.6.1)\n",
      "Requirement already satisfied: requests<3,>=2.21.0 in /packages/7x/anaconda3/5.3.0/lib/python3.7/site-packages (from tensorboard<2.10,>=2.9->tensorflow) (2.25.1)\n",
      "Requirement already satisfied: tensorboard-plugin-wit>=1.6.0 in /packages/7x/anaconda3/5.3.0/lib/python3.7/site-packages (from tensorboard<2.10,>=2.9->tensorflow) (1.8.0)\n",
      "Requirement already satisfied: markdown>=2.6.8 in /packages/7x/anaconda3/5.3.0/lib/python3.7/site-packages (from tensorboard<2.10,>=2.9->tensorflow) (3.3.4)\n",
      "Requirement already satisfied: google-auth-oauthlib<0.5,>=0.4.1 in /packages/7x/anaconda3/5.3.0/lib/python3.7/site-packages (from tensorboard<2.10,>=2.9->tensorflow) (0.4.2)\n",
      "Requirement already satisfied: pyparsing!=3.0.5,>=2.0.2 in /packages/7x/anaconda3/5.3.0/lib/python3.7/site-packages (from packaging->tensorflow) (2.2.0)\n",
      "Requirement already satisfied: cachetools<5.0,>=2.0.0 in /packages/7x/anaconda3/5.3.0/lib/python3.7/site-packages (from google-auth<3,>=1.6.3->tensorboard<2.10,>=2.9->tensorflow) (4.2.1)\n",
      "Requirement already satisfied: rsa<5,>=3.1.4 in /packages/7x/anaconda3/5.3.0/lib/python3.7/site-packages (from google-auth<3,>=1.6.3->tensorboard<2.10,>=2.9->tensorflow) (4.7.2)\n",
      "Requirement already satisfied: pyasn1-modules>=0.2.1 in /packages/7x/anaconda3/5.3.0/lib/python3.7/site-packages (from google-auth<3,>=1.6.3->tensorboard<2.10,>=2.9->tensorflow) (0.2.2)\n",
      "Requirement already satisfied: requests-oauthlib>=0.7.0 in /packages/7x/anaconda3/5.3.0/lib/python3.7/site-packages (from google-auth-oauthlib<0.5,>=0.4.1->tensorboard<2.10,>=2.9->tensorflow) (1.2.0)\n",
      "Requirement already satisfied: importlib-metadata in ./.local/lib/python3.7/site-packages (from markdown>=2.6.8->tensorboard<2.10,>=2.9->tensorflow) (3.10.1)\n",
      "Requirement already satisfied: urllib3<1.27,>=1.21.1 in /packages/7x/anaconda3/5.3.0/lib/python3.7/site-packages (from requests<3,>=2.21.0->tensorboard<2.10,>=2.9->tensorflow) (1.23)\n",
      "Requirement already satisfied: idna<3,>=2.5 in /packages/7x/anaconda3/5.3.0/lib/python3.7/site-packages (from requests<3,>=2.21.0->tensorboard<2.10,>=2.9->tensorflow) (2.7)\n",
      "Requirement already satisfied: certifi>=2017.4.17 in /packages/7x/anaconda3/5.3.0/lib/python3.7/site-packages (from requests<3,>=2.21.0->tensorboard<2.10,>=2.9->tensorflow) (2019.6.16)\n",
      "Requirement already satisfied: chardet<5,>=3.0.2 in /packages/7x/anaconda3/5.3.0/lib/python3.7/site-packages (from requests<3,>=2.21.0->tensorboard<2.10,>=2.9->tensorflow) (3.0.4)\n",
      "Requirement already satisfied: pyasn1<0.5.0,>=0.4.1 in /packages/7x/anaconda3/5.3.0/lib/python3.7/site-packages (from pyasn1-modules>=0.2.1->google-auth<3,>=1.6.3->tensorboard<2.10,>=2.9->tensorflow) (0.4.4)\n",
      "Requirement already satisfied: oauthlib>=3.0.0 in /packages/7x/anaconda3/5.3.0/lib/python3.7/site-packages (from requests-oauthlib>=0.7.0->google-auth-oauthlib<0.5,>=0.4.1->tensorboard<2.10,>=2.9->tensorflow) (3.0.1)\n",
      "Requirement already satisfied: zipp>=0.5 in ./.local/lib/python3.7/site-packages (from importlib-metadata->markdown>=2.6.8->tensorboard<2.10,>=2.9->tensorflow) (3.10.0)\n",
      "\u001b[33mWARNING: There was an error checking the latest version of pip.\u001b[0m\u001b[33m\n",
      "\u001b[0m"
     ]
    }
   ],
   "source": [
    "!pip install tensorflow"
   ]
  },
  {
   "cell_type": "code",
   "execution_count": 1,
   "metadata": {},
   "outputs": [],
   "source": [
    "import cudf\n"
   ]
  },
  {
   "cell_type": "code",
   "execution_count": null,
   "metadata": {},
   "outputs": [],
   "source": [
    "import pandas as pd\n",
    "import numpy as np\n",
    "import cudf\n",
    "import dask_cudf\n",
    "pandas_df = pd.DataFrame({'a': np.random.randint(0, 100000000, size=1000000000),\n",
    "                          'b': np.random.randint(0, 100000000, size=1000000000)})\n",
    "                          \n",
    "cudf_df = cudf.DataFrame.from_pandas(pandas_df)\n",
    "dask_df = dask_cudf.from_cudf(cudf_df,npartitions=2)\n",
    "# Timing Pandas\n",
    "# Output: 82.2 ms per loop\n",
    "%timeit pandas_df.a.mean()\n",
    "\n",
    "# Timing cuDF\n",
    "# Output: 5.12 ms per loop\n",
    "%timeit cudf_df.a.mean()\n",
    "%timeit dask_df.a.mean().compute()\n",
    "# Timing Pandas\n",
    "# Output: 39.2 s per loop\n",
    "'''%timeit pandas_df.merge(pandas_df, on='b')\n",
    "\n",
    "# Timing cuDF\n",
    "# Output: 2.76 s per loop\n",
    "%timeit cudf_df.merge(cudf_df, on='b')\n",
    "%timeit dask_df.merge(cudf_df, on='b')'''"
   ]
  },
  {
   "cell_type": "code",
   "execution_count": 2,
   "metadata": {},
   "outputs": [],
   "source": [
    "cdf= cudf.read_csv('Data_outcome_deidentified.csv')"
   ]
  },
  {
   "cell_type": "code",
   "execution_count": 3,
   "metadata": {},
   "outputs": [],
   "source": [
    "cdf.drop(['POST','PRE','causeofdeath','primcauseofdeath','death.info','numdisvessels','maxlesionlength', 'wposttimi', 'numbms','numdes', 'numstents', 'maxdevdiameter', 'maxdevlength','otherventsupport\\nYes:1 \\nNo:0'],axis=1,inplace=True)"
   ]
  },
  {
   "cell_type": "code",
   "execution_count": 4,
   "metadata": {},
   "outputs": [],
   "source": [
    "effect = ['Inhospital mortality\\nYes:1\\nNo:0','Mortality 6 months\\nYes:1\\nNo:0', 'Mortality 1 yr\\nYes:1\\nNo:0','Mortality 2 yr\\nYes:1\\nNo:0', 'Mortality 5yr\\nYes:1\\nNo:0','Time from PCI to Stroke_6mo', 'Time from PCI to Stroke_1yr','Time from PCI to Stroke_2yr', 'Time from PCI to Stroke_5yr']"
   ]
  },
  {
   "cell_type": "code",
   "execution_count": 5,
   "metadata": {},
   "outputs": [],
   "source": [
    "cdf_cause = cdf.drop(effect,axis=1)"
   ]
  },
  {
   "cell_type": "code",
   "execution_count": 9,
   "metadata": {},
   "outputs": [
    {
     "name": "stdout",
     "output_type": "stream",
     "text": [
      "1.21 ms ± 10.3 µs per loop (mean ± std. dev. of 7 runs, 1,000 loops each)\n"
     ]
    }
   ],
   "source": [
    "%timeit cdf_cause.iloc[:,0].mul(cdf_cause.iloc[:,1]).sum()"
   ]
  },
  {
   "cell_type": "code",
   "execution_count": 7,
   "metadata": {},
   "outputs": [
    {
     "name": "stdout",
     "output_type": "stream",
     "text": [
      "Inhospital mortality\n",
      "Yes:1\n",
      "No:0 0.024114366506951534\n",
      "[0.35741961909329045, 0.048567734891089315, 0.00469689021099746, 0.025634407106949815, 0.03124746520861403, 0.05902318439853504, 0.03756308574353105, 0.04600890373226976, 0.0690330924431201, 0.04639849241897629, 0.07358693105009391, 0.2798518426690238, -0.0037818138302955114, 0.30401703736788466, 0.2987773371566251, 0.05233971319770532, 0.04356940948397739, 0.08730394265765168, 0.015049435409669689, -0.0011879650078185492, 0.03199610949568849, 0.020293536322393346, 0.004764172016111142, 0.04531472292508923, 0.06867107500383968, 0.015430062276214398, 0.1134100534659356, -0.009039557853736613, 0.0018231786145566139, -0.02485228417185424, 0.35582734118677667, 0.10107579185601766, 0.10107508268381071, 0.387655131612059, 0.23400096388951913, 0.07324698997737274, 0.12410337250958965, 0.07527626239420507, 0.06815185541011753, 0.024462892680669146, 0.09842907728610124, 0.06793064029244208, 0.11620092339911516, 0.1868195539022079, 0.025292601378312685, 0.05245890130742767, 0.014053546928255953, 0.02860657175977047, 0.006685104872319681, 0.028769290596662514, 0.09614454544971124, 0.044235386877361865, 0.059033799147056254, 0.30420727511709345, 0.0456544947276221, 0.15245837078325739, 0.0900097844781604, 0.030967107381558914, 0.06057637754122171, 0.05302726872147295, 0.005376410583343376, 0.014639561395305358, -0.008169953070213202, 0.04280228742542997, 0.03514525188347595, 0.005947825769833932, 0.014408056306454592, -0.013204726070865792, 0.0566480674555723, 0.09418932501697157, 0.05875403738010908, 0.0462254330163731, -0.02686162938054494, 0.002572331206962239, 0.05686103556518301, 0.018556446047653323, 0.05662375266655999, -0.0020901582573702605, -0.0008660275555141244, -0.0054248616596545025]\n",
      "0:01:10.164895\n",
      "CPU times: user 1min 8s, sys: 1.3 s, total: 1min 10s\n",
      "Wall time: 1min 10s\n"
     ]
    }
   ],
   "source": [
    "%%time\n",
    "from datetime import datetime\n",
    "s=datetime.now()\n",
    "def effect_prob():\n",
    "    names=[]\n",
    "    for e in effect:\n",
    "        rel_c1=[]\n",
    "    \n",
    "        cdf_e1 = cdf[cdf[e]>-1]\n",
    "        cdf_e1_prob = cdf_e1[e].sum()/len(cdf_e1[e])\n",
    "        print(e,cdf_e1_prob)\n",
    "        for i in cdf_cause.columns:\n",
    "            cdf_e1_c1_prob=0\n",
    "            cdf_e1_c1 = cdf_e1[cdf_e1[i]>-1]\n",
    "            if(cdf_e1_c1[i].sum()!=0):\n",
    "                #print(i,e)\n",
    "                cdf_e1_c1_prob = (cdf_e1_c1[e].mul(cdf_e1_c1[i])).sum()/cdf_e1_c1[i].sum()\n",
    "            if(cdf_e1_c1_prob>cdf_e1_prob):\n",
    "                rel_c1.append(i)\n",
    "        #print(rel_c1)\n",
    "        diff=[0 for k in rel_c1]\n",
    "        for i in rel_c1:\n",
    "            ind=rel_c1.index(i)\n",
    "            for j in rel_c1:\n",
    "                if(i is not j):\n",
    "                    cdf_e1_c1 = cdf_e1[cdf_e1[i]>-1]\n",
    "                    cdf_e1_c1_c2 = cdf_e1_c1[cdf_e1_c1[j]>-1]\n",
    "                    if(((cdf_e1_c1_c2[i].mul(cdf_e1_c1_c2[j])).sum())!=0 and ((1-cdf_e1_c1_c2[i]).mul(cdf_e1_c1_c2[j])).sum()!=0):\n",
    "                        cdf_e1_c1_c2_prob = (cdf_e1_c1_c2[i].mul(cdf_e1_c1_c2[j]).mul(cdf_e1_c1_c2[e])).sum()/(cdf_e1_c1_c2[i].mul(cdf_e1_c1_c2[j])).sum()\n",
    "\n",
    "                        cdf_e1_notc1_c2_prob = ((1-cdf_e1_c1_c2[i]).mul(cdf_e1_c1_c2[j]).mul(cdf_e1_c1_c2[e])).sum()/((1-cdf_e1_c1_c2[i]).mul(cdf_e1_c1_c2[j])).sum()\n",
    "\n",
    "                        e_diff=cdf_e1_c1_c2_prob-cdf_e1_notc1_c2_prob\n",
    "\n",
    "                        diff[ind]=diff[ind]+e_diff\n",
    "            diff[rel_c1.index(i)] = diff[rel_c1.index(i)]/(len(rel_c1)-1) \n",
    "        print(diff)\n",
    "        names.append(rel_c1)\n",
    "        return names\n",
    "\n",
    "effect_prob()\n",
    "print(datetime.now()-s)\n",
    "#print(rel_c1_d)"
   ]
  },
  {
   "cell_type": "code",
   "execution_count": 19,
   "metadata": {},
   "outputs": [],
   "source": [
    "import cuml"
   ]
  },
  {
   "cell_type": "code",
   "execution_count": 20,
   "metadata": {},
   "outputs": [
    {
     "ename": "NameError",
     "evalue": "name 'rel_c1' is not defined",
     "output_type": "error",
     "traceback": [
      "\u001b[0;31m---------------------------------------------------------------------------\u001b[0m",
      "\u001b[0;31mNameError\u001b[0m                                 Traceback (most recent call last)",
      "Input \u001b[0;32mIn [20]\u001b[0m, in \u001b[0;36m<cell line: 1>\u001b[0;34m()\u001b[0m\n\u001b[0;32m----> 1\u001b[0m \u001b[38;5;28mprint\u001b[39m(\u001b[43mrel_c1\u001b[49m)\n",
      "\u001b[0;31mNameError\u001b[0m: name 'rel_c1' is not defined"
     ]
    }
   ],
   "source": [
    "print(rel_c1)"
   ]
  },
  {
   "cell_type": "code",
   "execution_count": null,
   "metadata": {},
   "outputs": [],
   "source": []
  }
 ],
 "metadata": {
  "kernelspec": {
   "display_name": "Python 3 (ipykernel)",
   "language": "python",
   "name": "python3"
  },
  "language_info": {
   "codemirror_mode": {
    "name": "ipython",
    "version": 3
   },
   "file_extension": ".py",
   "mimetype": "text/x-python",
   "name": "python",
   "nbconvert_exporter": "python",
   "pygments_lexer": "ipython3",
   "version": "3.9.7"
  }
 },
 "nbformat": 4,
 "nbformat_minor": 2
}
