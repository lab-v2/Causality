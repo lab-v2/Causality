{
 "cells": [
  {
   "cell_type": "code",
   "execution_count": null,
   "metadata": {},
   "outputs": [],
   "source": [
    "#this is simple example showing the difference between performance using pandas which runs on CPU and cudf which runs on GPU\n",
    "import pandas as pd\n",
    "import numpy as np\n",
    "import cudf\n",
    "import dask_cudf\n",
    "pandas_df = pd.DataFrame({'a': np.random.randint(0, 100000000, size=1000000000),\n",
    "                          'b': np.random.randint(0, 100000000, size=1000000000)})\n",
    "                          \n",
    "cudf_df = cudf.DataFrame.from_pandas(pandas_df)\n",
    "dask_df = dask_cudf.from_cudf(cudf_df,npartitions=2)\n",
    "# Timing Pandas\n",
    "%timeit pandas_df.a.mean()\n",
    "# Timing cuDF\n",
    "\n",
    "%timeit cudf_df.a.mean()\n",
    "# timing dask_cudf\n",
    "%timeit dask_df.a.mean().compute()\n"
   ]
  },
  {
   "cell_type": "code",
   "execution_count": 2,
   "metadata": {},
   "outputs": [],
   "source": [
    "#reading the files using pandas and cudf\n",
    "df=pd.read_csv('Data_outcome_deidentified.csv')\n",
    "cdf= cudf.read_csv('Data_outcome_deidentified.csv')"
   ]
  },
  {
   "cell_type": "code",
   "execution_count": 3,
   "metadata": {},
   "outputs": [],
   "source": [
    "#dropping unecessary columns\n",
    "df.drop(['POST','PRE','causeofdeath','primcauseofdeath','death.info','numdisvessels','maxlesionlength', 'wposttimi', 'numbms','numdes', 'numstents', 'maxdevdiameter', 'maxdevlength','otherventsupport\\nYes:1 \\nNo:0'],axis=1,inplace=True)\n",
    "cdf.drop(['POST','PRE','causeofdeath','primcauseofdeath','death.info','numdisvessels','maxlesionlength', 'wposttimi', 'numbms','numdes', 'numstents', 'maxdevdiameter', 'maxdevlength','otherventsupport\\nYes:1 \\nNo:0'],axis=1,inplace=True)"
   ]
  },
  {
   "cell_type": "code",
   "execution_count": 4,
   "metadata": {},
   "outputs": [],
   "source": [
    "#consists of all the effects i.e. targets\n",
    "effect = ['Inhospital mortality\\nYes:1\\nNo:0','Mortality 6 months\\nYes:1\\nNo:0', 'Mortality 1 yr\\nYes:1\\nNo:0','Mortality 2 yr\\nYes:1\\nNo:0', 'Mortality 5yr\\nYes:1\\nNo:0','Time from PCI to Stroke_6mo', 'Time from PCI to Stroke_1yr','Time from PCI to Stroke_2yr', 'Time from PCI to Stroke_5yr']"
   ]
  },
  {
   "cell_type": "code",
   "execution_count": 5,
   "metadata": {},
   "outputs": [],
   "source": [
    "df_cause = cdf.drop(effect,axis=1)\n",
    "cdf_cause = cdf.drop(effect,axis=1)"
   ]
  },
  {
   "cell_type": "code",
   "execution_count": 7,
   "metadata": {},
   "outputs": [
    {
     "name": "stdout",
     "output_type": "stream",
     "text": [
      "Inhospital mortality\n",
      "Yes:1\n",
      "No:0 0.024114366506951534\n",
      "[0.35741961909329045, 0.048567734891089315, 0.00469689021099746, 0.025634407106949815, 0.03124746520861403, 0.05902318439853504, 0.03756308574353105, 0.04600890373226976, 0.0690330924431201, 0.04639849241897629, 0.07358693105009391, 0.2798518426690238, -0.0037818138302955114, 0.30401703736788466, 0.2987773371566251, 0.05233971319770532, 0.04356940948397739, 0.08730394265765168, 0.015049435409669689, -0.0011879650078185492, 0.03199610949568849, 0.020293536322393346, 0.004764172016111142, 0.04531472292508923, 0.06867107500383968, 0.015430062276214398, 0.1134100534659356, -0.009039557853736613, 0.0018231786145566139, -0.02485228417185424, 0.35582734118677667, 0.10107579185601766, 0.10107508268381071, 0.387655131612059, 0.23400096388951913, 0.07324698997737274, 0.12410337250958965, 0.07527626239420507, 0.06815185541011753, 0.024462892680669146, 0.09842907728610124, 0.06793064029244208, 0.11620092339911516, 0.1868195539022079, 0.025292601378312685, 0.05245890130742767, 0.014053546928255953, 0.02860657175977047, 0.006685104872319681, 0.028769290596662514, 0.09614454544971124, 0.044235386877361865, 0.059033799147056254, 0.30420727511709345, 0.0456544947276221, 0.15245837078325739, 0.0900097844781604, 0.030967107381558914, 0.06057637754122171, 0.05302726872147295, 0.005376410583343376, 0.014639561395305358, -0.008169953070213202, 0.04280228742542997, 0.03514525188347595, 0.005947825769833932, 0.014408056306454592, -0.013204726070865792, 0.0566480674555723, 0.09418932501697157, 0.05875403738010908, 0.0462254330163731, -0.02686162938054494, 0.002572331206962239, 0.05686103556518301, 0.018556446047653323, 0.05662375266655999, -0.0020901582573702605, -0.0008660275555141244, -0.0054248616596545025]\n",
      "0:01:10.164895\n",
      "CPU times: user 1min 8s, sys: 1.3 s, total: 1min 10s\n",
      "Wall time: 1min 10s\n"
     ]
    }
   ],
   "source": [
    "#this is using cudf the functions and process is same pandas \n",
    "%%time\n",
    "from datetime import datetime\n",
    "s=datetime.now()\n",
    "def effect_prob():\n",
    "    names=[]\n",
    "    for e in effect:\n",
    "        rel_c1=[]\n",
    "    \n",
    "        cdf_e1 = cdf[cdf[e]>-1]\n",
    "        cdf_e1_prob = cdf_e1[e].sum()/len(cdf_e1[e])\n",
    "        print(e,cdf_e1_prob)\n",
    "        for i in cdf_cause.columns:\n",
    "            cdf_e1_c1_prob=0\n",
    "            cdf_e1_c1 = cdf_e1[cdf_e1[i]>-1]\n",
    "            if(cdf_e1_c1[i].sum()!=0):\n",
    "                #print(i,e)\n",
    "                cdf_e1_c1_prob = (cdf_e1_c1[e].mul(cdf_e1_c1[i])).sum()/cdf_e1_c1[i].sum()\n",
    "            if(cdf_e1_c1_prob>cdf_e1_prob):\n",
    "                rel_c1.append(i)\n",
    "        #print(rel_c1)\n",
    "        diff=[0 for k in rel_c1]\n",
    "        for i in rel_c1:\n",
    "            ind=rel_c1.index(i)\n",
    "            for j in rel_c1:\n",
    "                if(i is not j):\n",
    "                    cdf_e1_c1 = cdf_e1[cdf_e1[i]>-1]\n",
    "                    cdf_e1_c1_c2 = cdf_e1_c1[cdf_e1_c1[j]>-1]\n",
    "                    if(((cdf_e1_c1_c2[i].mul(cdf_e1_c1_c2[j])).sum())!=0 and ((1-cdf_e1_c1_c2[i]).mul(cdf_e1_c1_c2[j])).sum()!=0):\n",
    "                        cdf_e1_c1_c2_prob = (cdf_e1_c1_c2[i].mul(cdf_e1_c1_c2[j]).mul(cdf_e1_c1_c2[e])).sum()/(cdf_e1_c1_c2[i].mul(cdf_e1_c1_c2[j])).sum()\n",
    "\n",
    "                        cdf_e1_notc1_c2_prob = ((1-cdf_e1_c1_c2[i]).mul(cdf_e1_c1_c2[j]).mul(cdf_e1_c1_c2[e])).sum()/((1-cdf_e1_c1_c2[i]).mul(cdf_e1_c1_c2[j])).sum()\n",
    "\n",
    "                        e_diff=cdf_e1_c1_c2_prob-cdf_e1_notc1_c2_prob\n",
    "\n",
    "                        diff[ind]=diff[ind]+e_diff\n",
    "            diff[rel_c1.index(i)] = diff[rel_c1.index(i)]/(len(rel_c1)-1) \n",
    "        print(diff)\n",
    "        names.append(rel_c1)\n",
    "    return names\n",
    "\n",
    "effect_prob()\n",
    "print(datetime.now()-s)\n",
    "#print(rel_c1_d)"
   ]
  },
  {
   "cell_type": "code",
   "execution_count": 19,
   "metadata": {},
   "outputs": [],
   "source": [
    "# this is using pandas \n",
    "%%time\n",
    "from datetime import datetime\n",
    "s=datetime.now()\n",
    "def effect_prob():\n",
    "    #creating a list of lists consisting of all the causes for all the effects\n",
    "    names=[]\n",
    "    for e in effect:\n",
    "        # creating a list of causes for that particular effect\n",
    "        rel_c1=[]\n",
    "    \n",
    "        df_e1 = df[df[e]>-1]\n",
    "        # calculating the probability of the effect\n",
    "        df_e1_prob = df_e1[e].sum()/len(df_e1[e])\n",
    "        print(e,df_e1_prob)\n",
    "        #checking for the cuases conditioned on effect that has probability greater than that of effect\n",
    "        for i in df_cause.columns:\n",
    "            df_e1_c1_prob=0\n",
    "            df_e1_c1 = df_e1[df_e1[i]>-1]\n",
    "            if(df_e1_c1[i].sum()!=0):\n",
    "                #print(i,e)\n",
    "                df_e1_c1_prob = (df_e1_c1[e].mul(df_e1_c1[i])).sum()/df_e1_c1[i].sum()\n",
    "            if(df_e1_c1_prob>df_e1_prob):\n",
    "                rel_c1.append(i)\n",
    "        #print(rel_c1)\n",
    "        diff=[0 for k in rel_c1]\n",
    "        for i in rel_c1:\n",
    "            ind=rel_c1.index(i)\n",
    "            for j in rel_c1:\n",
    "                if(i is not j):\n",
    "                    # calculating the difference between probability of cause c1 with cause c2 with effect e and not cause c1 with cause c2 with effect e \n",
    "                    df_e1_c1 = df_e1[df_e1[i]>-1]\n",
    "                    df_e1_c1_c2 = df_e1_c1[df_e1_c1[j]>-1]\n",
    "                    if(((df_e1_c1_c2[i].mul(df_e1_c1_c2[j])).sum())!=0 and ((1-df_e1_c1_c2[i]).mul(df_e1_c1_c2[j])).sum()!=0):\n",
    "                        df_e1_c1_c2_prob = (df_e1_c1_c2[i].mul(df_e1_c1_c2[j]).mul(df_e1_c1_c2[e])).sum()/(df_e1_c1_c2[i].mul(df_e1_c1_c2[j])).sum()\n",
    "\n",
    "                        df_e1_notc1_c2_prob = ((1-df_e1_c1_c2[i]).mul(df_e1_c1_c2[j]).mul(df_e1_c1_c2[e])).sum()/((1-df_e1_c1_c2[i]).mul(df_e1_c1_c2[j])).sum()\n",
    "\n",
    "                        e_diff=df_e1_c1_c2_prob-df_e1_notc1_c2_prob\n",
    "\n",
    "                        diff[ind]=diff[ind]+e_diff\n",
    "            diff[rel_c1.index(i)] = diff[rel_c1.index(i)]/(len(rel_c1)-1) \n",
    "        print(diff)\n",
    "        names.append(rel_c1)\n",
    "    return names\n",
    "\n",
    "effect_prob()\n",
    "print(datetime.now()-s)\n",
    "#print(rel_c1_d)"
   ]
  },
  {
   "cell_type": "markdown",
   "metadata": {},
   "source": [
    "Though if you run the code pandas code usually outperforms the cudf due to data size to see difference between cudf and pandas we need to run it on huge data chunks, you can check the example provided in the first cell for results as you can see the size of np array is huge "
   ]
  },
  {
   "cell_type": "code",
   "execution_count": null,
   "metadata": {},
   "outputs": [],
   "source": []
  }
 ],
 "metadata": {
  "kernelspec": {
   "display_name": "Python 3 (ipykernel)",
   "language": "python",
   "name": "python3"
  },
  "language_info": {
   "codemirror_mode": {
    "name": "ipython",
    "version": 3
   },
   "file_extension": ".py",
   "mimetype": "text/x-python",
   "name": "python",
   "nbconvert_exporter": "python",
   "pygments_lexer": "ipython3",
   "version": "3.9.7"
  }
 },
 "nbformat": 4,
 "nbformat_minor": 2
}
